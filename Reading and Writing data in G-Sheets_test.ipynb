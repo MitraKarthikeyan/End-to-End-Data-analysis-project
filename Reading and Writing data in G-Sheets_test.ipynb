{
 "cells": [
  {
   "cell_type": "markdown",
   "id": "7e15de7c",
   "metadata": {},
   "source": [
    "**This is a test file, Using the API provided by (https://data.gov.in/), I am collecting data on air pollution. The API provides data every hour. Every hour, I receive new information (approx 1240 rows). I use Google Sheet to append the new data below the last hour data because there is no other way to get prior hours of data. This is basically to automate the process of collecting the data, which I did with the use of Python, then it was updated in a google sheet (which was new for every single day). So, in this way new data was added and the already existing data was appended in the google sheet.**"
   ]
  },
  {
   "cell_type": "code",
   "execution_count": 3,
   "id": "6365307a",
   "metadata": {},
   "outputs": [],
   "source": [
    "#Import the required package\n",
    "import pandas as pd"
   ]
  },
  {
   "cell_type": "code",
   "execution_count": 7,
   "id": "7b3a4780",
   "metadata": {},
   "outputs": [],
   "source": [
    "#Test data frame\n",
    "data = {'Name':['Gokul', 'Lewis', 'Leclerc', 'Sains'], 'Races Won':[1, 216, 28, 3]}"
   ]
  },
  {
   "cell_type": "code",
   "execution_count": 8,
   "id": "02bc0688",
   "metadata": {},
   "outputs": [],
   "source": [
    "df = pd.DataFrame(data)"
   ]
  },
  {
   "cell_type": "code",
   "execution_count": 9,
   "id": "1edb29c7",
   "metadata": {},
   "outputs": [
    {
     "data": {
      "text/html": [
       "<div>\n",
       "<style scoped>\n",
       "    .dataframe tbody tr th:only-of-type {\n",
       "        vertical-align: middle;\n",
       "    }\n",
       "\n",
       "    .dataframe tbody tr th {\n",
       "        vertical-align: top;\n",
       "    }\n",
       "\n",
       "    .dataframe thead th {\n",
       "        text-align: right;\n",
       "    }\n",
       "</style>\n",
       "<table border=\"1\" class=\"dataframe\">\n",
       "  <thead>\n",
       "    <tr style=\"text-align: right;\">\n",
       "      <th></th>\n",
       "      <th>Name</th>\n",
       "      <th>Races Won</th>\n",
       "    </tr>\n",
       "  </thead>\n",
       "  <tbody>\n",
       "    <tr>\n",
       "      <th>0</th>\n",
       "      <td>Gokul</td>\n",
       "      <td>1</td>\n",
       "    </tr>\n",
       "    <tr>\n",
       "      <th>1</th>\n",
       "      <td>Lewis</td>\n",
       "      <td>216</td>\n",
       "    </tr>\n",
       "    <tr>\n",
       "      <th>2</th>\n",
       "      <td>Leclerc</td>\n",
       "      <td>28</td>\n",
       "    </tr>\n",
       "    <tr>\n",
       "      <th>3</th>\n",
       "      <td>Sains</td>\n",
       "      <td>3</td>\n",
       "    </tr>\n",
       "  </tbody>\n",
       "</table>\n",
       "</div>"
      ],
      "text/plain": [
       "      Name  Races Won\n",
       "0    Gokul          1\n",
       "1    Lewis        216\n",
       "2  Leclerc         28\n",
       "3    Sains          3"
      ]
     },
     "execution_count": 9,
     "metadata": {},
     "output_type": "execute_result"
    }
   ],
   "source": [
    "df.head()"
   ]
  },
  {
   "cell_type": "markdown",
   "id": "e338a726",
   "metadata": {},
   "source": [
    "**Now that the sample data is been created we can use the `pygsheets` modules to access google spreadsheets through the Google Sheets API v4. So for example, if you have few csv files which you want to export to google sheets and then plot some graphs based on the data. You can use this library to automate that.**\n",
    "[Documentation of pygsheets](https://pygsheets.readthedocs.io/en/stable/)"
   ]
  },
  {
   "cell_type": "code",
   "execution_count": 10,
   "id": "1d5ee320",
   "metadata": {},
   "outputs": [],
   "source": [
    "import pygsheets"
   ]
  },
  {
   "cell_type": "code",
   "execution_count": 11,
   "id": "0780cf25",
   "metadata": {},
   "outputs": [],
   "source": [
    "#This is the autharization command\n",
    "gc = pygsheets.authorize(service_account_file='C:\\\\Users\\\\gokul\\Downloads\\\\pysheetstest-360108-d8bd2994e60d.json')"
   ]
  },
  {
   "cell_type": "code",
   "execution_count": 12,
   "id": "1a1d4726",
   "metadata": {},
   "outputs": [
    {
     "data": {
      "text/plain": [
       "<pygsheets.client.Client at 0x168fe5d4430>"
      ]
     },
     "execution_count": 12,
     "metadata": {},
     "output_type": "execute_result"
    }
   ],
   "source": [
    "gc"
   ]
  },
  {
   "cell_type": "code",
   "execution_count": 13,
   "id": "66649d39",
   "metadata": {},
   "outputs": [],
   "source": [
    "#Open the google spreadsheet\n",
    "sh = gc.open('Test Sheet')"
   ]
  },
  {
   "cell_type": "code",
   "execution_count": 14,
   "id": "e3f039f3",
   "metadata": {},
   "outputs": [],
   "source": [
    "#Define which sheet to open in the file\n",
    "wks = sh[0]"
   ]
  },
  {
   "cell_type": "code",
   "execution_count": 15,
   "id": "3cda423c",
   "metadata": {},
   "outputs": [],
   "source": [
    "#Get the data from the Sheet into python as DF\n",
    "read = wks.get_as_df()"
   ]
  },
  {
   "cell_type": "code",
   "execution_count": 16,
   "id": "6debb7e2",
   "metadata": {},
   "outputs": [
    {
     "data": {
      "text/html": [
       "<div>\n",
       "<style scoped>\n",
       "    .dataframe tbody tr th:only-of-type {\n",
       "        vertical-align: middle;\n",
       "    }\n",
       "\n",
       "    .dataframe tbody tr th {\n",
       "        vertical-align: top;\n",
       "    }\n",
       "\n",
       "    .dataframe thead th {\n",
       "        text-align: right;\n",
       "    }\n",
       "</style>\n",
       "<table border=\"1\" class=\"dataframe\">\n",
       "  <thead>\n",
       "    <tr style=\"text-align: right;\">\n",
       "      <th></th>\n",
       "      <th>Name</th>\n",
       "      <th>Population(In Crores)</th>\n",
       "    </tr>\n",
       "  </thead>\n",
       "  <tbody>\n",
       "    <tr>\n",
       "      <th>0</th>\n",
       "      <td>India</td>\n",
       "      <td>133.92</td>\n",
       "    </tr>\n",
       "    <tr>\n",
       "      <th>1</th>\n",
       "      <td>China</td>\n",
       "      <td>138.64</td>\n",
       "    </tr>\n",
       "    <tr>\n",
       "      <th>2</th>\n",
       "      <td>USA</td>\n",
       "      <td>32.72</td>\n",
       "    </tr>\n",
       "    <tr>\n",
       "      <th>3</th>\n",
       "      <td>Russsia</td>\n",
       "      <td>14.45</td>\n",
       "    </tr>\n",
       "  </tbody>\n",
       "</table>\n",
       "</div>"
      ],
      "text/plain": [
       "      Name  Population(In Crores)\n",
       "0    India                 133.92\n",
       "1    China                 138.64\n",
       "2      USA                  32.72\n",
       "3  Russsia                  14.45"
      ]
     },
     "execution_count": 16,
     "metadata": {},
     "output_type": "execute_result"
    }
   ],
   "source": [
    "#These were the data present in the g-sheets before I set my test df to the sheet\n",
    "#Print the head of the datframe to check if the function get's the data there were present in the g-sheets\n",
    "read.head()"
   ]
  },
  {
   "cell_type": "code",
   "execution_count": 17,
   "id": "c28cc1ae",
   "metadata": {},
   "outputs": [],
   "source": [
    "#Clearing the content of g-sheets which we have writted\n",
    "wks.clear()"
   ]
  },
  {
   "cell_type": "code",
   "execution_count": 18,
   "id": "46470c73",
   "metadata": {},
   "outputs": [],
   "source": [
    "#Load sheet from DF\n",
    "#Will load all data contained within the Pandas data frame into this worksheet.\n",
    "wks.set_dataframe(df,(1,1))"
   ]
  },
  {
   "cell_type": "code",
   "execution_count": 21,
   "id": "5988ed5a",
   "metadata": {},
   "outputs": [],
   "source": [
    "#Getting the content of this worksheet as df\n",
    "df = wks.get_as_df()"
   ]
  },
  {
   "cell_type": "code",
   "execution_count": 22,
   "id": "b58ec065",
   "metadata": {},
   "outputs": [
    {
     "data": {
      "text/html": [
       "<div>\n",
       "<style scoped>\n",
       "    .dataframe tbody tr th:only-of-type {\n",
       "        vertical-align: middle;\n",
       "    }\n",
       "\n",
       "    .dataframe tbody tr th {\n",
       "        vertical-align: top;\n",
       "    }\n",
       "\n",
       "    .dataframe thead th {\n",
       "        text-align: right;\n",
       "    }\n",
       "</style>\n",
       "<table border=\"1\" class=\"dataframe\">\n",
       "  <thead>\n",
       "    <tr style=\"text-align: right;\">\n",
       "      <th></th>\n",
       "      <th>Name</th>\n",
       "      <th>Races Won</th>\n",
       "    </tr>\n",
       "  </thead>\n",
       "  <tbody>\n",
       "    <tr>\n",
       "      <th>0</th>\n",
       "      <td>Gokul</td>\n",
       "      <td>1</td>\n",
       "    </tr>\n",
       "    <tr>\n",
       "      <th>1</th>\n",
       "      <td>Lewis</td>\n",
       "      <td>216</td>\n",
       "    </tr>\n",
       "    <tr>\n",
       "      <th>2</th>\n",
       "      <td>Leclerc</td>\n",
       "      <td>28</td>\n",
       "    </tr>\n",
       "    <tr>\n",
       "      <th>3</th>\n",
       "      <td>Sains</td>\n",
       "      <td>3</td>\n",
       "    </tr>\n",
       "  </tbody>\n",
       "</table>\n",
       "</div>"
      ],
      "text/plain": [
       "      Name  Races Won\n",
       "0    Gokul          1\n",
       "1    Lewis        216\n",
       "2  Leclerc         28\n",
       "3    Sains          3"
      ]
     },
     "execution_count": 22,
     "metadata": {},
     "output_type": "execute_result"
    }
   ],
   "source": [
    "df.head()"
   ]
  },
  {
   "cell_type": "markdown",
   "id": "ccff0605",
   "metadata": {},
   "source": [
    "**Getting the API and OAuth Consent Screen of Google spreedsheet and Google drive is a bit trickey, (https://pygsheets.readthedocs.io/en/stable/authorization.html), these are the steps from the official documentation which helped me to create the process, a quick read will help to understand how to get the API key, client ID, and the .json file.**"
   ]
  }
 ],
 "metadata": {
  "kernelspec": {
   "display_name": "Python 3 (ipykernel)",
   "language": "python",
   "name": "python3"
  },
  "language_info": {
   "codemirror_mode": {
    "name": "ipython",
    "version": 3
   },
   "file_extension": ".py",
   "mimetype": "text/x-python",
   "name": "python",
   "nbconvert_exporter": "python",
   "pygments_lexer": "ipython3",
   "version": "3.9.12"
  }
 },
 "nbformat": 4,
 "nbformat_minor": 5
}
